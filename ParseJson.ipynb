{
 "cells": [
  {
   "cell_type": "code",
   "execution_count": null,
   "metadata": {
    "dotnet_interactive": {
     "language": "csharp"
    },
    "polyglot_notebook": {
     "kernelName": "csharp"
    }
   },
   "outputs": [],
   "source": [
    "using System.IO;\n",
    "using System.Text.Json;"
   ]
  },
  {
   "cell_type": "code",
   "execution_count": null,
   "metadata": {},
   "outputs": [],
   "source": [
    "public class JsonColumn {\n",
    "    public string Name { get; set; }\n",
    "    public string Path { get; set; }\n",
    "    public string DataType { get; set; }\n",
    "    public JsonValueKind ValueKind { get; set; }\n",
    "\n",
    "}"
   ]
  },
  {
   "cell_type": "code",
   "execution_count": null,
   "metadata": {},
   "outputs": [
    {
     "data": {
      "text/plain": [
       "{\r\n",
       "    \"results\": [\r\n",
       "      {\r\n",
       "        \"id\": \"062b3a9b-b04f-4d9c-9ebc-81dcb5bbf285\",\r\n",
       "        \"transactionId\": \"356deb9f-98e6-4d6f-8db3-b378241895a1\",\r\n",
       "        \"note\": \"Direct income 38e8c917-0afc-4583-8ffe-1b53ad601197\",\r\n",
       "        \"bankAccountRef\": {\r\n",
       "          \"id\": \"ff8fdc4c-2aad-4ec1-9430-6bd201832eb3\",\r\n",
       "          \"name\": \"Undeposited Funds\"\r\n",
       "        },\r\n",
       "        \"date\": \"2022-04-19T00:00:00\",\r\n",
       "        \"status\": \"Unreconciled\",\r\n",
       "        \"currency\": \"GBP\",\r\n",
       "        \"currencyRate\": 1,\r\n",
       "        \"lines\": [\r\n",
       "          {\r\n",
       "            \"description\": \"Payment for direct income $38e8c917-0afc-4583-8ffe-1b53ad601197\",\r\n",
       "            \"recordRef\": {\r\n",
       "              \"id\": \"38e8c917-0afc-4583-8ffe-1b53ad601197\",\r\n",
       "              \"dataType\": \"directIncomes\"\r\n",
       "            },\r\n",
       "            \"amount\": 188.33\r\n",
       "          }\r\n",
       "        ],\r\n",
       "        \"totalAmount\": 188.33,\r\n",
       "        \"modifiedDate\": \"2023-04-26T12:38:18\",\r\n",
       "        \"sourceModifiedDate\": \"2022-05-13T01:06:00\",\r\n",
       "        \"metadata\": {\r\n",
       "          \"isDeleted\": false\r\n",
       "        }\r\n",
       "      },\r\n",
       "      {\r\n",
       "        \"id\": \"f2656119-9521-4d51-a24d-003b44c1410b\",\r\n",
       "        \"transactionId\": \"1fde4f8f-68ca-48fc-8fe7-79ac467d2946\",\r\n",
       "        \"note\": \"Direct income c31a3778-e3ea-4d01-9281-dd2f291c8cb8\",\r\n",
       "        \"bankAccountRef\": {\r\n",
       "          \"id\": \"ff8fdc4c-2aad-4ec1-9430-6bd201832eb3\",\r\n",
       "          \"name\": \"Undeposited Funds\"\r\n",
       "        },\r\n",
       "        \"date\": \"2022-04-19T00:00:00\",\r\n",
       "        \"status\": \"Void\",\r\n",
       "        \"currency\": \"GBP\",\r\n",
       "        \"currencyRate\": 1,\r\n",
       "        \"lines\": [\r\n",
       "          {\r\n",
       "            \"description\": \"Payment for direct income $c31a3778-e3ea-4d01-9281-dd2f291c8cb8\",\r\n",
       "            \"recordRef\": {\r\n",
       "              \"id\": \"c31a3778-e3ea-4d01-9281-dd2f291c8cb8\",\r\n",
       "              \"dataType\": \"directIncomes\"\r\n",
       "            },\r\n",
       "            \"amount\": 32095.91\r\n",
       "          }\r\n",
       "        ],\r\n",
       "        \"totalAmount\": 32095.91,\r\n",
       "        \"modifiedDate\": \"2023-04-26T12:38:18\",\r\n",
       "        \"sourceModifiedDate\": \"2023-02-13T00:34:00\",\r\n",
       "        \"metadata\": {\r\n",
       "          \"isDeleted\": false\r\n",
       "        }\r\n",
       "      }\r\n",
       "    ],\r\n",
       "    \"pageNumber\": 1,\r\n",
       "    \"pageSize\": 2,\r\n",
       "    \"totalResults\": 1745,\r\n",
       "    \"_links\": {\r\n",
       "      \"current\": {\r\n",
       "        \"href\": \"/companies/354a121b-855f-4d25-90ad-0905b498c1c0/connections/57b731ba-1d45-4386-ba58-2a1ca0234624/data/accountTransactions?page=1&pageSize=2\"\r\n",
       "      },\r\n",
       "      \"self\": {\r\n",
       "        \"href\": \"/companies/354a121b-855f-4d25-90ad-0905b498c1c0/connections/57b731ba-1d45-4386-ba58-2a1ca0234624/data/accountTransactions\"\r\n",
       "      },\r\n",
       "      \"next\": {\r\n",
       "        \"href\": \"/companies/354a121b-855f-4d25-90ad-0905b498c1c0/connections/57b731ba-1d45-4386-ba58-2a1ca0234624/data/accountTransactions?page=2&pageSize=2\"\r\n",
       "      }\r\n",
       "    }\r\n",
       "  }"
      ]
     },
     "metadata": {},
     "output_type": "display_data"
    }
   ],
   "source": [
    "var jsonString = File.ReadAllText(\"transactions.json\");\n",
    "// var jsonObject = JsonSerializer.Deserialize<Dictionary<string, object>>(jsonString);\n",
    "jsonString"
   ]
  },
  {
   "cell_type": "code",
   "execution_count": null,
   "metadata": {},
   "outputs": [],
   "source": [
    "JsonDocument document = JsonDocument.Parse(jsonString);"
   ]
  },
  {
   "cell_type": "code",
   "execution_count": null,
   "metadata": {},
   "outputs": [
    {
     "data": {
      "text/html": [
       "<span>Object</span>"
      ]
     },
     "metadata": {},
     "output_type": "display_data"
    }
   ],
   "source": [
    "JsonElement rootElement = document.RootElement;\n",
    "rootElement.ValueKind"
   ]
  },
  {
   "cell_type": "code",
   "execution_count": null,
   "metadata": {},
   "outputs": [
    {
     "data": {
      "text/html": [
       "<span><a href=\"https://docs.microsoft.com/dotnet/api/system.text.json.jsonelement?view=net-7.0\">System.Text.Json.JsonElement</a></span>"
      ]
     },
     "metadata": {},
     "output_type": "display_data"
    }
   ],
   "source": [
    "rootElement.GetType()"
   ]
  },
  {
   "cell_type": "code",
   "execution_count": null,
   "metadata": {},
   "outputs": [
    {
     "name": "stdout",
     "output_type": "stream",
     "text": [
      "results : Array\n",
      "pageNumber : Number\n",
      "pageSize : Number\n",
      "totalResults : Number\n",
      "_links : Object\n"
     ]
    }
   ],
   "source": [
    "var rootChildren = rootElement.EnumerateObject();\n",
    "foreach (var child in rootChildren)\n",
    "{\n",
    "    Console.WriteLine(child.Name+\" : \"+child.Value.ValueKind);\n",
    "}"
   ]
  },
  {
   "cell_type": "code",
   "execution_count": null,
   "metadata": {},
   "outputs": [
    {
     "data": {
      "text/html": [
       "<table><thead><tr><th><i>index</i></th><th>value</th></tr></thead><tbody><tr><td>0</td><td><details class=\"dni-treeview\"><summary><span class=\"dni-code-hint\"><code>Submission#22+JsonColumn</code></span></summary><div><table><thead><tr></tr></thead><tbody><tr><td>Name</td><td><div class=\"dni-plaintext\"><pre></pre></div></td></tr><tr><td>Path</td><td><div class=\"dni-plaintext\"><pre>$</pre></div></td></tr><tr><td>DataType</td><td><div class=\"dni-plaintext\"><pre>rootObject</pre></div></td></tr><tr><td>ValueKind</td><td><span>Object</span></td></tr></tbody></table></div></details></td></tr><tr><td>1</td><td><details class=\"dni-treeview\"><summary><span class=\"dni-code-hint\"><code>Submission#22+JsonColumn</code></span></summary><div><table><thead><tr></tr></thead><tbody><tr><td>Name</td><td><div class=\"dni-plaintext\"><pre>results</pre></div></td></tr><tr><td>Path</td><td><div class=\"dni-plaintext\"><pre>$.[&#39;results&#39;]</pre></div></td></tr><tr><td>DataType</td><td><div class=\"dni-plaintext\"><pre>ObjectArray</pre></div></td></tr><tr><td>ValueKind</td><td><span>Array</span></td></tr></tbody></table></div></details></td></tr><tr><td>2</td><td><details class=\"dni-treeview\"><summary><span class=\"dni-code-hint\"><code>Submission#22+JsonColumn</code></span></summary><div><table><thead><tr></tr></thead><tbody><tr><td>Name</td><td><div class=\"dni-plaintext\"><pre>id</pre></div></td></tr><tr><td>Path</td><td><div class=\"dni-plaintext\"><pre>$.[&#39;results&#39;][].[&#39;id&#39;]</pre></div></td></tr><tr><td>DataType</td><td><div class=\"dni-plaintext\"><pre>string</pre></div></td></tr><tr><td>ValueKind</td><td><span>String</span></td></tr></tbody></table></div></details></td></tr><tr><td>3</td><td><details class=\"dni-treeview\"><summary><span class=\"dni-code-hint\"><code>Submission#22+JsonColumn</code></span></summary><div><table><thead><tr></tr></thead><tbody><tr><td>Name</td><td><div class=\"dni-plaintext\"><pre>transactionId</pre></div></td></tr><tr><td>Path</td><td><div class=\"dni-plaintext\"><pre>$.[&#39;results&#39;][].[&#39;transactionId&#39;]</pre></div></td></tr><tr><td>DataType</td><td><div class=\"dni-plaintext\"><pre>string</pre></div></td></tr><tr><td>ValueKind</td><td><span>String</span></td></tr></tbody></table></div></details></td></tr><tr><td>4</td><td><details class=\"dni-treeview\"><summary><span class=\"dni-code-hint\"><code>Submission#22+JsonColumn</code></span></summary><div><table><thead><tr></tr></thead><tbody><tr><td>Name</td><td><div class=\"dni-plaintext\"><pre>note</pre></div></td></tr><tr><td>Path</td><td><div class=\"dni-plaintext\"><pre>$.[&#39;results&#39;][].[&#39;note&#39;]</pre></div></td></tr><tr><td>DataType</td><td><div class=\"dni-plaintext\"><pre>string</pre></div></td></tr><tr><td>ValueKind</td><td><span>String</span></td></tr></tbody></table></div></details></td></tr><tr><td>5</td><td><details class=\"dni-treeview\"><summary><span class=\"dni-code-hint\"><code>Submission#22+JsonColumn</code></span></summary><div><table><thead><tr></tr></thead><tbody><tr><td>Name</td><td><div class=\"dni-plaintext\"><pre>bankAccountRef</pre></div></td></tr><tr><td>Path</td><td><div class=\"dni-plaintext\"><pre>$.[&#39;results&#39;][].[&#39;bankAccountRef&#39;]</pre></div></td></tr><tr><td>DataType</td><td><div class=\"dni-plaintext\"><pre>bankAccountRefObject</pre></div></td></tr><tr><td>ValueKind</td><td><span>Object</span></td></tr></tbody></table></div></details></td></tr><tr><td>6</td><td><details class=\"dni-treeview\"><summary><span class=\"dni-code-hint\"><code>Submission#22+JsonColumn</code></span></summary><div><table><thead><tr></tr></thead><tbody><tr><td>Name</td><td><div class=\"dni-plaintext\"><pre>id</pre></div></td></tr><tr><td>Path</td><td><div class=\"dni-plaintext\"><pre>$.[&#39;results&#39;][].[&#39;bankAccountRef&#39;].[&#39;id&#39;]</pre></div></td></tr><tr><td>DataType</td><td><div class=\"dni-plaintext\"><pre>string</pre></div></td></tr><tr><td>ValueKind</td><td><span>String</span></td></tr></tbody></table></div></details></td></tr><tr><td>7</td><td><details class=\"dni-treeview\"><summary><span class=\"dni-code-hint\"><code>Submission#22+JsonColumn</code></span></summary><div><table><thead><tr></tr></thead><tbody><tr><td>Name</td><td><div class=\"dni-plaintext\"><pre>name</pre></div></td></tr><tr><td>Path</td><td><div class=\"dni-plaintext\"><pre>$.[&#39;results&#39;][].[&#39;bankAccountRef&#39;].[&#39;name&#39;]</pre></div></td></tr><tr><td>DataType</td><td><div class=\"dni-plaintext\"><pre>string</pre></div></td></tr><tr><td>ValueKind</td><td><span>String</span></td></tr></tbody></table></div></details></td></tr><tr><td>8</td><td><details class=\"dni-treeview\"><summary><span class=\"dni-code-hint\"><code>Submission#22+JsonColumn</code></span></summary><div><table><thead><tr></tr></thead><tbody><tr><td>Name</td><td><div class=\"dni-plaintext\"><pre>date</pre></div></td></tr><tr><td>Path</td><td><div class=\"dni-plaintext\"><pre>$.[&#39;results&#39;][].[&#39;date&#39;]</pre></div></td></tr><tr><td>DataType</td><td><div class=\"dni-plaintext\"><pre>string</pre></div></td></tr><tr><td>ValueKind</td><td><span>String</span></td></tr></tbody></table></div></details></td></tr><tr><td>9</td><td><details class=\"dni-treeview\"><summary><span class=\"dni-code-hint\"><code>Submission#22+JsonColumn</code></span></summary><div><table><thead><tr></tr></thead><tbody><tr><td>Name</td><td><div class=\"dni-plaintext\"><pre>status</pre></div></td></tr><tr><td>Path</td><td><div class=\"dni-plaintext\"><pre>$.[&#39;results&#39;][].[&#39;status&#39;]</pre></div></td></tr><tr><td>DataType</td><td><div class=\"dni-plaintext\"><pre>string</pre></div></td></tr><tr><td>ValueKind</td><td><span>String</span></td></tr></tbody></table></div></details></td></tr><tr><td>10</td><td><details class=\"dni-treeview\"><summary><span class=\"dni-code-hint\"><code>Submission#22+JsonColumn</code></span></summary><div><table><thead><tr></tr></thead><tbody><tr><td>Name</td><td><div class=\"dni-plaintext\"><pre>currency</pre></div></td></tr><tr><td>Path</td><td><div class=\"dni-plaintext\"><pre>$.[&#39;results&#39;][].[&#39;currency&#39;]</pre></div></td></tr><tr><td>DataType</td><td><div class=\"dni-plaintext\"><pre>string</pre></div></td></tr><tr><td>ValueKind</td><td><span>String</span></td></tr></tbody></table></div></details></td></tr><tr><td>11</td><td><details class=\"dni-treeview\"><summary><span class=\"dni-code-hint\"><code>Submission#22+JsonColumn</code></span></summary><div><table><thead><tr></tr></thead><tbody><tr><td>Name</td><td><div class=\"dni-plaintext\"><pre>currencyRate</pre></div></td></tr><tr><td>Path</td><td><div class=\"dni-plaintext\"><pre>$.[&#39;results&#39;][].[&#39;currencyRate&#39;]</pre></div></td></tr><tr><td>DataType</td><td><div class=\"dni-plaintext\"><pre>double</pre></div></td></tr><tr><td>ValueKind</td><td><span>Number</span></td></tr></tbody></table></div></details></td></tr><tr><td>12</td><td><details class=\"dni-treeview\"><summary><span class=\"dni-code-hint\"><code>Submission#22+JsonColumn</code></span></summary><div><table><thead><tr></tr></thead><tbody><tr><td>Name</td><td><div class=\"dni-plaintext\"><pre>lines</pre></div></td></tr><tr><td>Path</td><td><div class=\"dni-plaintext\"><pre>$.[&#39;results&#39;][].[&#39;lines&#39;]</pre></div></td></tr><tr><td>DataType</td><td><div class=\"dni-plaintext\"><pre>ObjectArray</pre></div></td></tr><tr><td>ValueKind</td><td><span>Array</span></td></tr></tbody></table></div></details></td></tr><tr><td>13</td><td><details class=\"dni-treeview\"><summary><span class=\"dni-code-hint\"><code>Submission#22+JsonColumn</code></span></summary><div><table><thead><tr></tr></thead><tbody><tr><td>Name</td><td><div class=\"dni-plaintext\"><pre>description</pre></div></td></tr><tr><td>Path</td><td><div class=\"dni-plaintext\"><pre>$.[&#39;results&#39;][].[&#39;lines&#39;][].[&#39;description&#39;]</pre></div></td></tr><tr><td>DataType</td><td><div class=\"dni-plaintext\"><pre>string</pre></div></td></tr><tr><td>ValueKind</td><td><span>String</span></td></tr></tbody></table></div></details></td></tr><tr><td>14</td><td><details class=\"dni-treeview\"><summary><span class=\"dni-code-hint\"><code>Submission#22+JsonColumn</code></span></summary><div><table><thead><tr></tr></thead><tbody><tr><td>Name</td><td><div class=\"dni-plaintext\"><pre>recordRef</pre></div></td></tr><tr><td>Path</td><td><div class=\"dni-plaintext\"><pre>$.[&#39;results&#39;][].[&#39;lines&#39;][].[&#39;recordRef&#39;]</pre></div></td></tr><tr><td>DataType</td><td><div class=\"dni-plaintext\"><pre>recordRefObject</pre></div></td></tr><tr><td>ValueKind</td><td><span>Object</span></td></tr></tbody></table></div></details></td></tr><tr><td>15</td><td><details class=\"dni-treeview\"><summary><span class=\"dni-code-hint\"><code>Submission#22+JsonColumn</code></span></summary><div><table><thead><tr></tr></thead><tbody><tr><td>Name</td><td><div class=\"dni-plaintext\"><pre>id</pre></div></td></tr><tr><td>Path</td><td><div class=\"dni-plaintext\"><pre>$.[&#39;results&#39;][].[&#39;lines&#39;][].[&#39;recordRef&#39;].[&#39;id&#39;]</pre></div></td></tr><tr><td>DataType</td><td><div class=\"dni-plaintext\"><pre>string</pre></div></td></tr><tr><td>ValueKind</td><td><span>String</span></td></tr></tbody></table></div></details></td></tr><tr><td>16</td><td><details class=\"dni-treeview\"><summary><span class=\"dni-code-hint\"><code>Submission#22+JsonColumn</code></span></summary><div><table><thead><tr></tr></thead><tbody><tr><td>Name</td><td><div class=\"dni-plaintext\"><pre>dataType</pre></div></td></tr><tr><td>Path</td><td><div class=\"dni-plaintext\"><pre>$.[&#39;results&#39;][].[&#39;lines&#39;][].[&#39;recordRef&#39;].[&#39;dataType&#39;]</pre></div></td></tr><tr><td>DataType</td><td><div class=\"dni-plaintext\"><pre>string</pre></div></td></tr><tr><td>ValueKind</td><td><span>String</span></td></tr></tbody></table></div></details></td></tr><tr><td>17</td><td><details class=\"dni-treeview\"><summary><span class=\"dni-code-hint\"><code>Submission#22+JsonColumn</code></span></summary><div><table><thead><tr></tr></thead><tbody><tr><td>Name</td><td><div class=\"dni-plaintext\"><pre>amount</pre></div></td></tr><tr><td>Path</td><td><div class=\"dni-plaintext\"><pre>$.[&#39;results&#39;][].[&#39;lines&#39;][].[&#39;amount&#39;]</pre></div></td></tr><tr><td>DataType</td><td><div class=\"dni-plaintext\"><pre>double</pre></div></td></tr><tr><td>ValueKind</td><td><span>Number</span></td></tr></tbody></table></div></details></td></tr><tr><td>18</td><td><details class=\"dni-treeview\"><summary><span class=\"dni-code-hint\"><code>Submission#22+JsonColumn</code></span></summary><div><table><thead><tr></tr></thead><tbody><tr><td>Name</td><td><div class=\"dni-plaintext\"><pre>totalAmount</pre></div></td></tr><tr><td>Path</td><td><div class=\"dni-plaintext\"><pre>$.[&#39;results&#39;][].[&#39;totalAmount&#39;]</pre></div></td></tr><tr><td>DataType</td><td><div class=\"dni-plaintext\"><pre>double</pre></div></td></tr><tr><td>ValueKind</td><td><span>Number</span></td></tr></tbody></table></div></details></td></tr><tr><td>19</td><td><details class=\"dni-treeview\"><summary><span class=\"dni-code-hint\"><code>Submission#22+JsonColumn</code></span></summary><div><table><thead><tr></tr></thead><tbody><tr><td>Name</td><td><div class=\"dni-plaintext\"><pre>modifiedDate</pre></div></td></tr><tr><td>Path</td><td><div class=\"dni-plaintext\"><pre>$.[&#39;results&#39;][].[&#39;modifiedDate&#39;]</pre></div></td></tr><tr><td>DataType</td><td><div class=\"dni-plaintext\"><pre>string</pre></div></td></tr><tr><td>ValueKind</td><td><span>String</span></td></tr></tbody></table></div></details></td></tr><tr><td colspan=\"2\"><i>(13 more)</i></td></tr></tbody></table><style>\r\n",
       ".dni-code-hint {\r\n",
       "    font-style: italic;\r\n",
       "    overflow: hidden;\r\n",
       "    white-space: nowrap;\r\n",
       "}\r\n",
       ".dni-treeview {\r\n",
       "    white-space: nowrap;\r\n",
       "}\r\n",
       ".dni-treeview td {\r\n",
       "    vertical-align: top;\r\n",
       "    text-align: start;\r\n",
       "}\r\n",
       "details.dni-treeview {\r\n",
       "    padding-left: 1em;\r\n",
       "}\r\n",
       "table td {\r\n",
       "    text-align: start;\r\n",
       "}\r\n",
       "table tr { \r\n",
       "    vertical-align: top; \r\n",
       "    margin: 0em 0px;\r\n",
       "}\r\n",
       "table tr td pre \r\n",
       "{ \r\n",
       "    vertical-align: top !important; \r\n",
       "    margin: 0em 0px !important;\r\n",
       "} \r\n",
       "table th {\r\n",
       "    text-align: start;\r\n",
       "}\r\n",
       "</style>"
      ]
     },
     "metadata": {},
     "output_type": "display_data"
    }
   ],
   "source": [
    "var columns = new List<JsonColumn>();\n",
    "var rootColumn = new JsonColumn\n",
    "{\n",
    "    Name = \"\",\n",
    "    Path = \"$\",\n",
    "    ValueKind = rootElement.ValueKind,\n",
    "    DataType = $\"root{rootElement.ValueKind}\"\n",
    "};\n",
    "columns.Add(rootColumn);\n",
    "var rootChildren = rootElement.EnumerateObject();\n",
    "foreach (var child in rootChildren)\n",
    "{\n",
    "    ProcessJsonProperty(child, rootColumn.Path, columns);\n",
    "};\n",
    "columns"
   ]
  },
  {
   "cell_type": "code",
   "execution_count": null,
   "metadata": {},
   "outputs": [],
   "source": [
    "public IList<JsonColumn> ProcessJsonDocument(JsonDocument document)\n",
    "{\n",
    "    var columns = new List<JsonColumn>();\n",
    "    var rootColumn = new JsonColumn\n",
    "    {\n",
    "        Name = \"$\",\n",
    "        Path = \"$\",\n",
    "        ValueKind = document.RootElement.ValueKind,\n",
    "        DataType = $\"root{document.RootElement.ValueKind}\"\n",
    "    };\n",
    "    columns.Add(rootColumn);\n",
    "    switch (document.RootElement.ValueKind)\n",
    "    {\n",
    "        case JsonValueKind.Object:\n",
    "            var rootChildren = document.RootElement.EnumerateObject();\n",
    "            foreach (var child in rootChildren)\n",
    "            {\n",
    "                ProcessJsonProperty(child, rootColumn.Path, columns);\n",
    "            };\n",
    "            break;\n",
    "        case JsonValueKind.Array:\n",
    "            ProcessJsonArray(document.RootElement, rootColumn, columns);\n",
    "            break;\n",
    "        default:\n",
    "            throw new ArgumentException(\"Unsupported JSON value kind\", nameof(document.RootElement));\n",
    "    }\n",
    "    \n",
    "    return columns;\n",
    "}\n",
    "\n",
    "public void ProcessJsonProperty(JsonProperty jsonProperty, string parent, List<JsonColumn> columns)\n",
    "{\n",
    "    var column = new JsonColumn\n",
    "    {\n",
    "        Name = jsonProperty.Name,\n",
    "        Path = $\"{parent}.['{jsonProperty.Name}']\",\n",
    "        ValueKind = jsonProperty.Value.ValueKind\n",
    "    };\n",
    "\n",
    "    columns.Add(column);\n",
    "\n",
    "    switch (jsonProperty.Value.ValueKind)\n",
    "    {\n",
    "        case JsonValueKind.String:\n",
    "            column.DataType = \"string\";\n",
    "            break;\n",
    "        case JsonValueKind.Number:\n",
    "            column.DataType = \"double\";\n",
    "            break;\n",
    "        case JsonValueKind.True:\n",
    "        case JsonValueKind.False:\n",
    "            column.DataType = \"boolean\";\n",
    "            break;\n",
    "        case JsonValueKind.Null:\n",
    "        break;\n",
    "        case JsonValueKind.Object:\n",
    "            column.DataType = $\"{jsonProperty.Name}Object\";\n",
    "            foreach (var child in jsonProperty.Value.EnumerateObject())\n",
    "            {\n",
    "                ProcessJsonProperty(child, column.Path, columns);\n",
    "            }\n",
    "            break;\n",
    "        case JsonValueKind.Array:\n",
    "            ProcessJsonArray(jsonProperty.Value, column, columns);\n",
    "            break;\n",
    "        default:\n",
    "            throw new NotImplementedException(\"Unsupported JSON value kind: \" + jsonProperty.Name);\n",
    "    }\n",
    "}\n",
    "\n",
    "public void ProcessJsonArray(JsonElement jsonArray, JsonColumn parent, List<JsonColumn> columns) \n",
    "{\n",
    "    var elements = jsonArray.EnumerateArray();\n",
    "    if (!IsSameJsonValueKind(elements))\n",
    "    {\n",
    "        throw new ArgumentException(\"All elements in the array must have the same JSON value kind\");\n",
    "    } \n",
    "    else \n",
    "    {\n",
    "        var first = elements.First();\n",
    "        parent.DataType = $\"{first.ValueKind}Array\";\n",
    "        switch (first.ValueKind) \n",
    "        {\n",
    "            case JsonValueKind.String:\n",
    "            case JsonValueKind.Number:\n",
    "                parent.DataType = $\"{first.ValueKind}Array\";\n",
    "                break;\n",
    "            case JsonValueKind.True:\n",
    "            case JsonValueKind.False:\n",
    "                parent.DataType = \"BooleanArray\";\n",
    "                break;\n",
    "            case JsonValueKind.Null:\n",
    "                parent.DataType = \"NullArray\";\n",
    "                break;\n",
    "            case JsonValueKind.Array:\n",
    "                parent.DataType = \"ArrayArray\";\n",
    "                break;\n",
    "            case JsonValueKind.Object:\n",
    "                parent.DataType = \"ObjectArray\";\n",
    "                foreach (var prop in first.EnumerateObject())\n",
    "                {\n",
    "                    ProcessJsonProperty(prop, $\"{parent.Path}[]\", columns);\n",
    "                }\n",
    "                break;\n",
    "            default:\n",
    "                throw new ArgumentException(\"Unsupported JSON value kind\");\n",
    "        }\n",
    "        \n",
    "    }\n",
    "}\n",
    "\n",
    "public bool IsSameJsonValueKind(IEnumerable<JsonElement> elements)\n",
    "{\n",
    "    if (elements.Count() <= 1) return true;\n",
    "    else return elements.All(x => x.ValueKind == elements.First().ValueKind);\n",
    "}\n"
   ]
  },
  {
   "cell_type": "code",
   "execution_count": null,
   "metadata": {},
   "outputs": [
    {
     "data": {
      "text/html": [
       "<div class=\"dni-plaintext\"><pre>True</pre></div><style>\r\n",
       ".dni-code-hint {\r\n",
       "    font-style: italic;\r\n",
       "    overflow: hidden;\r\n",
       "    white-space: nowrap;\r\n",
       "}\r\n",
       ".dni-treeview {\r\n",
       "    white-space: nowrap;\r\n",
       "}\r\n",
       ".dni-treeview td {\r\n",
       "    vertical-align: top;\r\n",
       "    text-align: start;\r\n",
       "}\r\n",
       "details.dni-treeview {\r\n",
       "    padding-left: 1em;\r\n",
       "}\r\n",
       "table td {\r\n",
       "    text-align: start;\r\n",
       "}\r\n",
       "table tr { \r\n",
       "    vertical-align: top; \r\n",
       "    margin: 0em 0px;\r\n",
       "}\r\n",
       "table tr td pre \r\n",
       "{ \r\n",
       "    vertical-align: top !important; \r\n",
       "    margin: 0em 0px !important;\r\n",
       "} \r\n",
       "table th {\r\n",
       "    text-align: start;\r\n",
       "}\r\n",
       "</style>"
      ]
     },
     "metadata": {},
     "output_type": "display_data"
    }
   ],
   "source": [
    "var rs = rootElement.GetProperty(\"results\");\n",
    "var childArr = rs.EnumerateArray();\n",
    "var obj = childArr.All(x => x.ValueKind == JsonValueKind.Object);\n",
    "// foreach (var item in childArr)\n",
    "// {\n",
    "//     var props = item.EnumerateObject();\n",
    "//     foreach (var prop in props)\n",
    "//     {\n",
    "//         Console.WriteLine(prop.Name + \": \" + prop.Value.ValueKind);\n",
    "//     }\n",
    "// }\n",
    "obj"
   ]
  },
  {
   "cell_type": "code",
   "execution_count": null,
   "metadata": {
    "dotnet_interactive": {
     "language": "csharp"
    },
    "polyglot_notebook": {
     "kernelName": "csharp"
    }
   },
   "outputs": [
    {
     "name": "stdout",
     "output_type": "stream",
     "text": [
      "$\n",
      "$.['results']\n",
      "$.['results'][].['id']\n",
      "$.['results'][].['transactionId']\n",
      "$.['results'][].['note']\n",
      "$.['results'][].['bankAccountRef']\n",
      "$.['results'][].['bankAccountRef'].['id']\n",
      "$.['results'][].['bankAccountRef'].['name']\n",
      "$.['results'][].['date']\n",
      "$.['results'][].['status']\n",
      "$.['results'][].['currency']\n",
      "$.['results'][].['currencyRate']\n",
      "$.['results'][].['lines']\n",
      "$.['results'][].['lines'][].['description']\n",
      "$.['results'][].['lines'][].['recordRef']\n",
      "$.['results'][].['lines'][].['recordRef'].['id']\n",
      "$.['results'][].['lines'][].['recordRef'].['dataType']\n",
      "$.['results'][].['lines'][].['amount']\n",
      "$.['results'][].['totalAmount']\n",
      "$.['results'][].['modifiedDate']\n",
      "$.['results'][].['sourceModifiedDate']\n",
      "$.['results'][].['metadata']\n",
      "$.['results'][].['metadata'].['isDeleted']\n",
      "$.['pageNumber']\n",
      "$.['pageSize']\n",
      "$.['totalResults']\n",
      "$.['_links']\n",
      "$.['_links'].['current']\n",
      "$.['_links'].['current'].['href']\n",
      "$.['_links'].['self']\n",
      "$.['_links'].['self'].['href']\n",
      "$.['_links'].['next']\n",
      "$.['_links'].['next'].['href']\n"
     ]
    }
   ],
   "source": [
    "var rsc = ProcessJsonDocument(document);\n",
    "foreach (var row in rsc)\n",
    "{\n",
    "    Console.WriteLine(row.Path);\n",
    "}\n"
   ]
  }
 ],
 "metadata": {
  "kernelspec": {
   "display_name": ".NET (C#)",
   "language": "C#",
   "name": ".net-csharp"
  },
  "polyglot_notebook": {
   "kernelInfo": {
    "defaultKernelName": "csharp",
    "items": [
     {
      "aliases": [],
      "languageName": "csharp",
      "name": "csharp"
     }
    ]
   }
  }
 },
 "nbformat": 4,
 "nbformat_minor": 2
}
